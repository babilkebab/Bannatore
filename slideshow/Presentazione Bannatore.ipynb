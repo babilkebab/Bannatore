{
 "cells": [
  {
   "cell_type": "markdown",
   "id": "bd66afcb",
   "metadata": {
    "slideshow": {
     "slide_type": "slide"
    }
   },
   "source": [
    "<span style=\"color:#4hv; font-family: 'Helvetica'; font-size: 4em;\">BANNATORE</span>\n",
    "\n",
    "<span style=\"color:#4hv; font-family: 'Helvetica'; font-size: 2em;\">ML-based Chats Moderator</span>\n"
   ]
  },
  {
   "cell_type": "markdown",
   "id": "e9a3b975",
   "metadata": {
    "slideshow": {
     "slide_type": "slide"
    }
   },
   "source": [
    "# Internet spesso può essere un brutto posto..."
   ]
  },
  {
   "cell_type": "markdown",
   "id": "3f36243e",
   "metadata": {
    "slideshow": {
     "slide_type": "fragment"
    }
   },
   "source": [
    "<div style=\"display: flex;\">\n",
    "    <img src=\"imgs/twitch1.png\" width=\"500\" height=\"750\"></img>\n",
    "    <img src=\"imgs/twitch2.png\" width=\"450\" height=\"750\"></img>\n",
    "    <img src=\"imgs/telegram1.png\" width=\"350\" height=\"750\"></img>\n",
    "    <img src=\"imgs/telegram2.png\" width=\"350\" height=\"750\"></img>\n",
    "</div>"
   ]
  },
  {
   "cell_type": "markdown",
   "id": "90eecf10",
   "metadata": {
    "slideshow": {
     "slide_type": "slide"
    }
   },
   "source": [
    "# Nota bene:\n"
   ]
  },
  {
   "cell_type": "markdown",
   "id": "89142960",
   "metadata": {
    "slideshow": {
     "slide_type": "fragment"
    }
   },
   "source": [
    "<img src=\"imgs/mods.png\" width=\"350\" height=\"750\"></img>"
   ]
  },
  {
   "cell_type": "markdown",
   "id": "439a33f5",
   "metadata": {
    "slideshow": {
     "slide_type": "fragment"
    }
   },
   "source": [
    "- Questi non sono mica gratis...."
   ]
  },
  {
   "cell_type": "markdown",
   "id": "ee183e37",
   "metadata": {
    "slideshow": {
     "slide_type": "subslide"
    }
   },
   "source": [
    "# Ci dicono sempre che con le AI smetteremo di lavorare... e allora facciamoli riposare!\n",
    "\n"
   ]
  },
  {
   "cell_type": "markdown",
   "id": "3211c015",
   "metadata": {
    "slideshow": {
     "slide_type": "fragment"
    }
   },
   "source": [
    "- Riconoscimento ed eliminazione automatica dei messaggi offensivi nei gruppi Telegram tramite un bot;\n"
   ]
  },
  {
   "cell_type": "markdown",
   "id": "9982c0ba",
   "metadata": {
    "slideshow": {
     "slide_type": "fragment"
    }
   },
   "source": [
    "- Modello BERT per sentence classification allenato su 80000 testi brevi (< 300 caratteri);\n"
   ]
  },
  {
   "cell_type": "markdown",
   "id": "85a983f0",
   "metadata": {
    "slideshow": {
     "slide_type": "fragment"
    }
   },
   "source": [
    "- Data pipeline progettata per assorbire grandi quantità di dati in breve tempo;\n"
   ]
  },
  {
   "cell_type": "markdown",
   "id": "0fb96349",
   "metadata": {
    "slideshow": {
     "slide_type": "fragment"
    }
   },
   "source": [
    "- Utilizzo di tecnologie allo stato dell'arte;"
   ]
  },
  {
   "cell_type": "markdown",
   "id": "48163f03",
   "metadata": {
    "slideshow": {
     "slide_type": "slide"
    }
   },
   "source": [
    "# DATA PIPELINE\n"
   ]
  },
  {
   "cell_type": "markdown",
   "id": "fa3ded2d",
   "metadata": {
    "slideshow": {
     "slide_type": "fragment"
    }
   },
   "source": [
    "<img src=\"imgs/tap_pipeline.svg\" width=\"85%\" height=\"80%\"></img>"
   ]
  },
  {
   "cell_type": "markdown",
   "id": "d432e552",
   "metadata": {
    "slideshow": {
     "slide_type": "subslide"
    }
   },
   "source": [
    "<div style=\"display: flex; justify-content: space-between; align-items: center;\">\n",
    "    <h1>DOCKER</h1>\n",
    "    <img src=\"imgs/docker-mark-blue.svg\" width=\"10%\" height=\"10%\" style=\"margin-left: auto;\"></img>\n",
    "</div>"
   ]
  },
  {
   "cell_type": "markdown",
   "id": "2c7be62f",
   "metadata": {
    "slideshow": {
     "slide_type": "fragment"
    }
   },
   "source": [
    "Docker è una piattaforma open-source e gratuita che permette di costruire ed eseguire dei <b>container</b>, cioè dei \"pacchetti\" (precisamente, dei processi indipendenti) che contengono soltanto il codice da eseguire, e le dipendenze necessarie installate. \n",
    "\n",
    "Docker permette sia di definire la struttura del container (immagine) attraverso un Dockerfile, sia l'esecuzione attraverso il Docker Engine."
   ]
  },
  {
   "cell_type": "markdown",
   "id": "a1038a53",
   "metadata": {
    "slideshow": {
     "slide_type": "subslide"
    }
   },
   "source": [
    "## Perché Docker?"
   ]
  },
  {
   "cell_type": "markdown",
   "id": "21b4c974",
   "metadata": {
    "slideshow": {
     "slide_type": "fragment"
    }
   },
   "source": [
    "- I container sono eseguibili indipendentemente dalla piattaforma, sono <b>portabili</b>;\n"
   ]
  },
  {
   "cell_type": "markdown",
   "id": "33884d99",
   "metadata": {
    "slideshow": {
     "slide_type": "fragment"
    }
   },
   "source": [
    "- Docker è l'applicativo più utilizzato per la creazione di container (maggior supporto dalla community);"
   ]
  },
  {
   "cell_type": "markdown",
   "id": "a48117f2",
   "metadata": {
    "slideshow": {
     "slide_type": "fragment"
    }
   },
   "source": [
    "- I container Docker condividono lo stesso kernel, per cui non necessitano l'installazione di un OS ospite (prestazioni migliori rispetto alle VM);\n"
   ]
  },
  {
   "cell_type": "markdown",
   "id": "9dfc1f39",
   "metadata": {
    "slideshow": {
     "slide_type": "fragment"
    }
   },
   "source": [
    "- Possibilità di gestire più container simultaneamente (Docker Compose);"
   ]
  },
  {
   "cell_type": "markdown",
   "id": "13fac407",
   "metadata": {
    "slideshow": {
     "slide_type": "slide"
    }
   },
   "source": [
    "<div style=\"display: flex; justify-content: space-between; align-items: center;\">\n",
    "    <h1>PYTHON-TELEGRAM-BOT</h1>\n",
    "    <img src=\"imgs/ptb-logo_240.png\" width=\"10%\" height=\"10%\" style=\"margin-left: auto;\"></img>\n",
    "</div>"
   ]
  },
  {
   "cell_type": "markdown",
   "id": "0c01b227",
   "metadata": {
    "slideshow": {
     "slide_type": "fragment"
    }
   },
   "source": [
    "Python-telegram-bot è la libreria Python per la gestione di bot Telegram con la community più ampia attualmente sulla scena. \n",
    "\n",
    "Grazie alle funzioni e agli event listener forniti da essa, il bot è in grado di riconoscere il nuovo messaggio, inserirlo nella pipeline ed eventualmente eliminarlo."
   ]
  },
  {
   "cell_type": "markdown",
   "id": "3cf3894c",
   "metadata": {
    "slideshow": {
     "slide_type": "slide"
    }
   },
   "source": [
    "<div style=\"display: flex; justify-content: space-between; align-items: center;\">\n",
    "    <h1>FLUENTD</h1>\n",
    "    <img src=\"imgs/Fluentd_icon.png\" width=\"10%\" height=\"10%\" style=\"margin-left: auto;\"></img>\n",
    "</div>"
   ]
  },
  {
   "cell_type": "markdown",
   "id": "b5aefb2e",
   "metadata": {
    "slideshow": {
     "slide_type": "fragment"
    }
   },
   "source": [
    "Il principale vantaggio di una tecnologia come Fluentd è quello di eseguire l'ingestion di log provenienti da diverse sorgenti. "
   ]
  },
  {
   "cell_type": "markdown",
   "id": "5672efa6",
   "metadata": {
    "slideshow": {
     "slide_type": "fragment"
    }
   },
   "source": [
    "- Ingestion, filtering e parsing da e verso più sorgenti;"
   ]
  },
  {
   "cell_type": "markdown",
   "id": "f6877ac1",
   "metadata": {
    "slideshow": {
     "slide_type": "fragment"
    }
   },
   "source": [
    "- Efficienza maggiore rispetto ai competitor (Nifi, Logstash)"
   ]
  },
  {
   "cell_type": "markdown",
   "id": "686b7add",
   "metadata": {
    "slideshow": {
     "slide_type": "fragment"
    }
   },
   "source": [
    "- Elevata disponibilità di funzionalità aggiuntive (plugins);"
   ]
  },
  {
   "cell_type": "markdown",
   "id": "e363e039",
   "metadata": {
    "slideshow": {
     "slide_type": "fragment"
    }
   },
   "source": [
    "- Facilità di configurazione grazie ad un linguaggio di markup;"
   ]
  },
  {
   "cell_type": "markdown",
   "id": "5b7b38e6",
   "metadata": {
    "slideshow": {
     "slide_type": "slide"
    }
   },
   "source": [
    "<div style=\"display: flex; justify-content: space-between; align-items: center;\">\n",
    "    <h1>KAFKA</h1>\n",
    "    <img src=\"imgs/kafka.png\" width=\"10%\" height=\"10%\" style=\"margin-left: auto;\"></img>\n",
    "</div>"
   ]
  },
  {
   "cell_type": "markdown",
   "id": "54691b4a",
   "metadata": {
    "slideshow": {
     "slide_type": "fragment"
    }
   },
   "source": [
    "Apache Kafka è stato utilizzato per la sua capacità di effettuare lo streaming di grandissime quantità di dati in tempo reale, in maniera efficiente e senza rallentamenti. "
   ]
  },
  {
   "cell_type": "markdown",
   "id": "b4d97c8e",
   "metadata": {
    "slideshow": {
     "slide_type": "subslide"
    }
   },
   "source": [
    "<div style=\"display: flex; justify-content: space-between; align-items: center;\">\n",
    "    <h1>ZOOKEEPER</h1>\n",
    "    <img src=\"imgs/Apache_ZooKeeper_logo.svg.png\" width=\"15%\" height=\"15%\" style=\"margin-left: auto;\"></img>\n",
    "</div>"
   ]
  },
  {
   "cell_type": "markdown",
   "id": "98cc3b72",
   "metadata": {
    "slideshow": {
     "slide_type": "fragment"
    }
   },
   "source": [
    "Apache Zookeeper ha il compito di coordinare il funzionamento di applicazioni distribuite (come Kafka). Precisamente, nel nostro caso Zookeeper si occupa di gestire i broker e i topic di Kafka. Esso permette anche il failover automatico nel caso in cui un nodo del cluster Kafka crashi."
   ]
  },
  {
   "cell_type": "markdown",
   "id": "99f6d58c",
   "metadata": {
    "slideshow": {
     "slide_type": "slide"
    }
   },
   "source": [
    "<div style=\"display: flex; justify-content: space-between; align-items: center;\">\n",
    "    <h1>SPARK</h1>\n",
    "    <img src=\"imgs/spark.png\" width=\"10%\" height=\"10%\" style=\"margin-left: auto;\"></img>\n",
    "</div>"
   ]
  },
  {
   "cell_type": "markdown",
   "id": "987dbd9f",
   "metadata": {
    "slideshow": {
     "slide_type": "fragment"
    }
   },
   "source": [
    "Apache Spark è un engine utilizzato per l'esecuzione di task di machine learning e data science in maniera distribuita. È disponibile con i linguaggi Python, Scala, R e Java."
   ]
  },
  {
   "cell_type": "markdown",
   "id": "cefc415c",
   "metadata": {
    "slideshow": {
     "slide_type": "subslide"
    }
   },
   "source": [
    "## Spark Structured Streaming"
   ]
  },
  {
   "cell_type": "markdown",
   "id": "543503fb",
   "metadata": {
    "slideshow": {
     "slide_type": "fragment"
    }
   },
   "source": [
    "Spark Structured Streaming permette l'elaborazione di dati inviati in tempo reale, attraverso l'astrazione dei DataFrame.\n",
    "\n",
    "Nel nostro caso, Spark Structured Streaming consente di poter etichettare sul momento i record, ed inviarli direttamente ad Elasticsearch."
   ]
  },
  {
   "cell_type": "markdown",
   "id": "f91fc4c9",
   "metadata": {
    "slideshow": {
     "slide_type": "slide"
    }
   },
   "source": [
    "<div style=\"display: flex; justify-content: space-between; align-items: center;\">\n",
    "    <h1>TAPMODELV2_BERT (sì, esiste anche una versione 1)</h1>\n",
    "    <img src=\"imgs/Bert_smile.webp\" width=\"10%\" height=\"10%\" style=\"margin-left: auto;\"></img>\n",
    "</div>"
   ]
  },
  {
   "cell_type": "markdown",
   "id": "600bdf21",
   "metadata": {
    "slideshow": {
     "slide_type": "fragment"
    }
   },
   "source": [
    "TAPMODELV2_BERT è un modello basato su BERT-base uncased, fine-tuned per riconoscere la presenza di hate-speech in brevi stringhe di testo (< 300 caratteri). È stato allenato sfruttando la libreria <i>transformers</i> di Huggingface. "
   ]
  },
  {
   "cell_type": "markdown",
   "id": "49df3f4e",
   "metadata": {
    "slideshow": {
     "slide_type": "subslide"
    }
   },
   "source": [
    "## Caratteristiche di TAPMODELV2_BERT"
   ]
  },
  {
   "cell_type": "markdown",
   "id": "d5bffcda",
   "metadata": {
    "slideshow": {
     "slide_type": "fragment"
    }
   },
   "source": [
    "- Classificazione binaria di brevi testi (0 = non offensivo, 1 = offensivo)"
   ]
  },
  {
   "cell_type": "markdown",
   "id": "29ebfebe",
   "metadata": {
    "slideshow": {
     "slide_type": "fragment"
    }
   },
   "source": [
    "- Allenato su un dataset di più di 80000 righe, ottenuto da un mashup di più dataset utilizzati da ricercatori universitari;"
   ]
  },
  {
   "cell_type": "markdown",
   "id": "fa86d492",
   "metadata": {
    "slideshow": {
     "slide_type": "fragment"
    }
   },
   "source": [
    "- Modello BERT-base uncased con 110 milioni di parametri;"
   ]
  },
  {
   "cell_type": "markdown",
   "id": "d8b5fbd9",
   "metadata": {
    "slideshow": {
     "slide_type": "slide"
    }
   },
   "source": [
    "<div style=\"display: flex; justify-content: space-between; align-items: center;\">\n",
    "    <h1>ELASTICSEARCH</h1>\n",
    "    <img src=\"imgs/es.png\" width=\"8%\" height=\"8%\" style=\"margin-left: auto;\"></img>\n",
    "</div>"
   ]
  },
  {
   "cell_type": "markdown",
   "id": "92331a80",
   "metadata": {
    "slideshow": {
     "slide_type": "fragment"
    }
   },
   "source": [
    "Elasticsearch è un motore di ricerca e analisi di dati in formato JSON, che permette l'esecuzione di query con grande rapidità. "
   ]
  },
  {
   "cell_type": "markdown",
   "id": "2a72bb68",
   "metadata": {
    "slideshow": {
     "slide_type": "fragment"
    }
   },
   "source": [
    "I dati vengono organizzati in <i>indici</i>, da vedere come se fossero delle directory, delle collezioni di documenti."
   ]
  },
  {
   "cell_type": "markdown",
   "id": "5c20e870",
   "metadata": {
    "slideshow": {
     "slide_type": "fragment"
    }
   },
   "source": [
    "Elasticsearch ha, in questo caso specifico, la funzione di conservare tutti i documenti JSON arricchiti e inviati da Spark. Uno script Python esegue una query che ricerca tutti i documenti non ancora processati, ed analizza la loro etichetta, in modo da poter eliminare i messaggi etichettati come \"offensivi\"."
   ]
  },
  {
   "cell_type": "markdown",
   "id": "a58e469a",
   "metadata": {
    "slideshow": {
     "slide_type": "slide"
    }
   },
   "source": [
    "<div style=\"display: flex; justify-content: space-between; align-items: center;\">\n",
    "    <h1>KIBANA</h1>\n",
    "    <img src=\"imgs/elastic-kibana-logo.png\" width=\"10%\" height=\"10%\" style=\"margin-left: auto;\"></img>\n",
    "</div>"
   ]
  },
  {
   "cell_type": "markdown",
   "id": "e2df130d",
   "metadata": {
    "slideshow": {
     "slide_type": "fragment"
    }
   },
   "source": [
    "Kibana è un software di data visualization che supporta la creazione di dashboard, alimentate da un indice Elasticsearch. "
   ]
  },
  {
   "cell_type": "markdown",
   "id": "38b7a849",
   "metadata": {
    "slideshow": {
     "slide_type": "fragment"
    }
   },
   "source": [
    "Grazie ad un'interfaccia grafica user-friendly, Kibana permette di creare facilmente dei plot anche molto complessi. È possibile anche creare delle visualizzazioni custom utilizzando il linguaggio Vega."
   ]
  },
  {
   "cell_type": "markdown",
   "id": "3764a342",
   "metadata": {
    "slideshow": {
     "slide_type": "subslide"
    }
   },
   "source": [
    "<img src=\"imgs/kibana.png\" width=\"100%\" height=\"100%\"></img>"
   ]
  },
  {
   "cell_type": "markdown",
   "id": "19292a0c",
   "metadata": {
    "slideshow": {
     "slide_type": "slide"
    }
   },
   "source": [
    "# Sviluppi futuri"
   ]
  },
  {
   "cell_type": "markdown",
   "id": "4bb67bcf",
   "metadata": {
    "slideshow": {
     "slide_type": "fragment"
    }
   },
   "source": [
    "A causa della deadline fissata per la presentazione del progetto, non è stato possibile poter implementare attualmente alcuni miglioramenti:"
   ]
  },
  {
   "cell_type": "markdown",
   "id": "8cd09ba4",
   "metadata": {
    "slideshow": {
     "slide_type": "fragment"
    }
   },
   "source": [
    "- Utilizzo di un modello multilingua BERT-large/roBERTa-large per una migliore accuracy;"
   ]
  },
  {
   "cell_type": "markdown",
   "id": "d26a8401",
   "metadata": {
    "slideshow": {
     "slide_type": "fragment"
    }
   },
   "source": [
    "- Riaddestramento del modello con un dataset più ampio e di migliore qualità;"
   ]
  },
  {
   "cell_type": "markdown",
   "id": "5aecea6d",
   "metadata": {
    "slideshow": {
     "slide_type": "fragment"
    }
   },
   "source": [
    "- Ottimizzazione della pipeline;"
   ]
  },
  {
   "cell_type": "markdown",
   "id": "aebeae61",
   "metadata": {
    "slideshow": {
     "slide_type": "slide"
    }
   },
   "source": [
    "# Vi ringrazio per l'attenzione!"
   ]
  }
 ],
 "metadata": {
  "celltoolbar": "Slideshow",
  "kernelspec": {
   "display_name": "Python 3 (ipykernel)",
   "language": "python",
   "name": "python3"
  },
  "language_info": {
   "codemirror_mode": {
    "name": "ipython",
    "version": 3
   },
   "file_extension": ".py",
   "mimetype": "text/x-python",
   "name": "python",
   "nbconvert_exporter": "python",
   "pygments_lexer": "ipython3",
   "version": "3.11.7"
  }
 },
 "nbformat": 4,
 "nbformat_minor": 5
}
